{
 "cells": [
  {
   "cell_type": "markdown",
   "metadata": {},
   "source": [
    "# Email Scraper"
   ]
  },
  {
   "cell_type": "markdown",
   "metadata": {},
   "source": [
    "import deps"
   ]
  },
  {
   "cell_type": "code",
   "execution_count": null,
   "metadata": {},
   "outputs": [],
   "source": [
    "import grequests\n",
    "from bs4 import BeautifulSoup\n",
    "import re\n",
    "import json"
   ]
  },
  {
   "cell_type": "markdown",
   "metadata": {},
   "source": [
    "read list of URLs to scrape from `in.txt`"
   ]
  },
  {
   "cell_type": "code",
   "execution_count": null,
   "metadata": {},
   "outputs": [],
   "source": [
    "input_file = 'in.json'\n",
    "\n",
    "with open('./in/' + input_file) as f:\n",
    "    urls = json.load(f)\n",
    "\n",
    "urls"
   ]
  },
  {
   "cell_type": "markdown",
   "metadata": {},
   "source": [
    "scrape emails from anchor tags with mailto links"
   ]
  },
  {
   "cell_type": "code",
   "execution_count": null,
   "metadata": {},
   "outputs": [],
   "source": [
    "def extract_emails(response):\n",
    "  \n",
    "  # Parse the HTML content\n",
    "  soup = BeautifulSoup(response.content, 'html.parser')\n",
    "\n",
    "  # Find all 'mailto:' links\n",
    "  mailto_links = soup.find_all('a', href=re.compile(r'^mailto:'))\n",
    "\n",
    "  # Extract email addresses from 'mailto:' links\n",
    "  emails = set()\n",
    "  for link in mailto_links:\n",
    "    email = link['href'].replace('mailto:', '')\n",
    "    query_string_start = email.find('?')\n",
    "    if query_string_start >= 0:\n",
    "      email = email[0:query_string_start]\n",
    "    emails.add(email)\n",
    "\n",
    "  return emails"
   ]
  },
  {
   "cell_type": "code",
   "execution_count": null,
   "metadata": {},
   "outputs": [],
   "source": [
    "requests = (grequests.get(u) for u in urls)\n",
    "\n",
    "email_addresses = set()\n",
    "for response in grequests.imap(requests, size=10):\n",
    "  email_addresses.update(extract_emails(response))"
   ]
  },
  {
   "cell_type": "code",
   "execution_count": null,
   "metadata": {},
   "outputs": [],
   "source": [
    "print(f\"Total email addresses: {len(email_addresses):0}\")\n",
    "email_addresses"
   ]
  },
  {
   "cell_type": "markdown",
   "metadata": {},
   "source": [
    "write scraped email address to file"
   ]
  },
  {
   "cell_type": "code",
   "execution_count": null,
   "metadata": {},
   "outputs": [],
   "source": [
    "output_file = 'out.txt'\n",
    "\n",
    "with open('./out/' + output_file, 'w+') as f:\n",
    "    f.writelines(\", \".join(email_addresses))"
   ]
  }
 ],
 "metadata": {
  "kernelspec": {
   "display_name": "Python 3",
   "language": "python",
   "name": "python3"
  },
  "language_info": {
   "codemirror_mode": {
    "name": "ipython",
    "version": 3
   },
   "file_extension": ".py",
   "mimetype": "text/x-python",
   "name": "python",
   "nbconvert_exporter": "python",
   "pygments_lexer": "ipython3",
   "version": "3.10.0"
  }
 },
 "nbformat": 4,
 "nbformat_minor": 2
}
