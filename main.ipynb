{
 "cells": [
  {
   "cell_type": "markdown",
   "metadata": {},
   "source": [
    "# Email Scraper"
   ]
  },
  {
   "cell_type": "code",
   "execution_count": null,
   "metadata": {},
   "outputs": [],
   "source": [
    "import grequests\n",
    "from bs4 import BeautifulSoup\n",
    "import csv\n",
    "import re\n",
    "import json\n",
    "from urllib.parse import urlparse, unquote"
   ]
  },
  {
   "cell_type": "markdown",
   "metadata": {},
   "source": [
    "read list of URLs to scrape"
   ]
  },
  {
   "cell_type": "code",
   "execution_count": null,
   "metadata": {},
   "outputs": [],
   "source": [
    "IN_FILE_DIR = './in/'\n",
    "IN_FILE_NAME = 'in.json'\n",
    "\n",
    "with open(IN_FILE_DIR + IN_FILE_NAME) as f:\n",
    "    urls = json.load(f)\n",
    "\n",
    "print(f\"Total urls: {len(urls):0}\")\n",
    "urls"
   ]
  },
  {
   "cell_type": "markdown",
   "metadata": {},
   "source": [
    "scrape emails and phone numbers from anchor tags with mailto and tel  links"
   ]
  },
  {
   "cell_type": "code",
   "execution_count": null,
   "metadata": {},
   "outputs": [],
   "source": [
    "def is_valid_email_address(string):\n",
    "  email_pattern = re.compile(r'\\b[A-Za-z0-9._%+-]+@[A-Za-z0-9.-]+\\.[A-Z|a-z]{2,7}\\b')\n",
    "  return email_pattern.fullmatch(string) != None\n",
    "\n",
    "def is_valid_phone_number(string):\n",
    "  #TODO\n",
    "  return True\n",
    "\n",
    "def deduplicate_list_preserve_order(seq):\n",
    "  return list(dict.fromkeys(seq))\n",
    "\n",
    "def extract_email_address(soup):\n",
    "  # Find all 'mailto:' links\n",
    "  anchors_with_mailto_links = soup.find_all('a', href=re.compile(r'^mailto:'))\n",
    "\n",
    "  # Extract email addresses from 'mailto:' links\n",
    "  email_addresses = []\n",
    "  for anchor in anchors_with_mailto_links:\n",
    "    mailto_link = anchor['href']\n",
    "    parsed_link = urlparse(mailto_link, \"mailto\")\n",
    "    \n",
    "    email = parsed_link.path\n",
    "    email = unquote(email)\n",
    "    email = email.strip()\n",
    "    \n",
    "    if is_valid_email_address(email):\n",
    "      email_addresses.append(email)\n",
    "\n",
    "  return deduplicate_list_preserve_order(email_addresses)\n",
    "\n",
    "def extract_phone_numbers(soup):\n",
    "  # Find all 'mailto:' links\n",
    "  anchors_with_mailto_links = soup.find_all('a', href=re.compile(r'^tel:'))\n",
    "\n",
    "  # Extract email addresses from 'mailto:' links\n",
    "  phone_numbers = []\n",
    "  for anchor in anchors_with_mailto_links:\n",
    "    mailto_link = anchor['href']\n",
    "    parsed_link = urlparse(mailto_link, \"tel\")\n",
    "    \n",
    "    phone = parsed_link.path\n",
    "    phone = phone.strip()\n",
    "    \n",
    "    if is_valid_phone_number(phone):\n",
    "      phone_numbers.append(phone)\n",
    "\n",
    "  return deduplicate_list_preserve_order(phone_numbers)"
   ]
  },
  {
   "cell_type": "code",
   "execution_count": null,
   "metadata": {},
   "outputs": [],
   "source": [
    "requests = (grequests.get(u) for u in urls)\n",
    "\n",
    "contacts = []\n",
    "for response in grequests.imap(requests, size=10):\n",
    "  soup = BeautifulSoup(response.content, 'html.parser')\n",
    "  \n",
    "  email_addresses = extract_email_address(soup)\n",
    "  phone_numbers = extract_phone_numbers(soup)\n",
    "  \n",
    "  contacts.append({\n",
    "    \"title\":  soup.title.string,\n",
    "    \"source\": response.url,\n",
    "    \"emails\": email_addresses,\n",
    "    \"phones\": phone_numbers,\n",
    "  })\n",
    "\n",
    "contacts"
   ]
  },
  {
   "cell_type": "markdown",
   "metadata": {},
   "source": [
    "write scraped contact_info to file"
   ]
  },
  {
   "cell_type": "code",
   "execution_count": null,
   "metadata": {},
   "outputs": [],
   "source": [
    "OUT_FILE_DIR = './out/'\n",
    "OUT_FILE_NAME = 'out.csv'\n",
    "\n",
    "with open(OUT_FILE_DIR + OUT_FILE_NAME, 'w+') as f:\n",
    "  fieldnames = [\n",
    "    'Title', \n",
    "    'Source', \n",
    "    'Email', \n",
    "    'Phone'\n",
    "  ]\n",
    "  writer = csv.DictWriter(f, fieldnames=fieldnames, lineterminator='\\n', delimiter=',')\n",
    "  writer.writeheader()\n",
    "  \n",
    "  for id, contact in enumerate(contacts):\n",
    "    writer.writerow({\n",
    "      'Title': contact['title'], \n",
    "      'Source': contact['source'], \n",
    "      'Email': contact['emails'][0] if contact['emails'] else \"\", \n",
    "      'Phone': contact['phones'][0] if contact['phones'] else \"\", \n",
    "    })"
   ]
  }
 ],
 "metadata": {
  "kernelspec": {
   "display_name": "Python 3",
   "language": "python",
   "name": "python3"
  },
  "language_info": {
   "codemirror_mode": {
    "name": "ipython",
    "version": 3
   },
   "file_extension": ".py",
   "mimetype": "text/x-python",
   "name": "python",
   "nbconvert_exporter": "python",
   "pygments_lexer": "ipython3",
   "version": "3.10.0"
  }
 },
 "nbformat": 4,
 "nbformat_minor": 2
}
